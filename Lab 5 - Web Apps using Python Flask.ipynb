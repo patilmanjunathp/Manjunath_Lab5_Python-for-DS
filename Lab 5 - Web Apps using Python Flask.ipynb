{
 "cells": [
  {
   "cell_type": "markdown",
   "id": "57ce141c",
   "metadata": {
    "id": "57ce141c"
   },
   "source": [
    "# <font color=darkblue> Machine Learning model deployment with Flask framework on Heroku</font>"
   ]
  },
  {
   "cell_type": "markdown",
   "id": "ba1bdb38",
   "metadata": {
    "id": "ba1bdb38"
   },
   "source": [
    "## <font color=Blue>Used Cars Price Prediction Application</font>"
   ]
  },
  {
   "cell_type": "markdown",
   "id": "6492286d",
   "metadata": {
    "id": "6492286d"
   },
   "source": [
    "### Objective:\n",
    "1. To build a Machine learning regression model to predict the selling price of the used cars based on the different input features like fuel_type, kms_driven, type of transmission etc.\n",
    "2. Deploy the machine learning model with flask framework on heroku."
   ]
  },
  {
   "cell_type": "markdown",
   "id": "6fa174ee",
   "metadata": {
    "id": "6fa174ee"
   },
   "source": [
    "### Dataset Information:\n",
    "#### Dataset Source: https://www.kaggle.com/datasets/nehalbirla/vehicle-dataset-from-cardekho?select=CAR+DETAILS+FROM+CAR+DEKHO.csv\n",
    "This dataset contains information about used cars listed on www.cardekho.com\n",
    "- **Car_Name**: Name of the car\n",
    "- **Year**: Year of Purchase\n",
    "- **Selling Price (target)**: Selling price of the car in lakhs\n",
    "- **Present Price**: Present price of the car in lakhs\n",
    "- **Kms_Driven**: kilometers driven\n",
    "- **Fuel_Type**: Petrol/diesel/CNG\n",
    "- **Seller_Type**: Dealer or Indiviual\n",
    "- **Transmission**: Manual or Automatic\n",
    "- **Owner**: first, second or third owner\n"
   ]
  },
  {
   "cell_type": "markdown",
   "id": "e4059ba6",
   "metadata": {
    "id": "e4059ba6"
   },
   "source": [
    "### 1. Import required libraries"
   ]
  },
  {
   "cell_type": "code",
   "execution_count": 24,
   "id": "f6ee2764",
   "metadata": {
    "id": "f6ee2764"
   },
   "outputs": [],
   "source": [
    "import numpy as np \n",
    "import pandas as pd \n",
    "import matplotlib.pyplot as plt\n",
    "import seaborn as sns"
   ]
  },
  {
   "cell_type": "markdown",
   "id": "8c79a95e",
   "metadata": {
    "id": "8c79a95e"
   },
   "source": [
    "### 2. Load the dataset"
   ]
  },
  {
   "cell_type": "code",
   "execution_count": 25,
   "id": "9a1a9544",
   "metadata": {
    "id": "9a1a9544"
   },
   "outputs": [
    {
     "data": {
      "text/html": [
       "<div>\n",
       "<style scoped>\n",
       "    .dataframe tbody tr th:only-of-type {\n",
       "        vertical-align: middle;\n",
       "    }\n",
       "\n",
       "    .dataframe tbody tr th {\n",
       "        vertical-align: top;\n",
       "    }\n",
       "\n",
       "    .dataframe thead th {\n",
       "        text-align: right;\n",
       "    }\n",
       "</style>\n",
       "<table border=\"1\" class=\"dataframe\">\n",
       "  <thead>\n",
       "    <tr style=\"text-align: right;\">\n",
       "      <th></th>\n",
       "      <th>Car_Name</th>\n",
       "      <th>Year</th>\n",
       "      <th>Selling_Price</th>\n",
       "      <th>Present_Price</th>\n",
       "      <th>Kms_Driven</th>\n",
       "      <th>Fuel_Type</th>\n",
       "      <th>Seller_Type</th>\n",
       "      <th>Transmission</th>\n",
       "      <th>Owner</th>\n",
       "    </tr>\n",
       "  </thead>\n",
       "  <tbody>\n",
       "    <tr>\n",
       "      <th>0</th>\n",
       "      <td>ritz</td>\n",
       "      <td>2014</td>\n",
       "      <td>3.35</td>\n",
       "      <td>5.59</td>\n",
       "      <td>27000</td>\n",
       "      <td>Petrol</td>\n",
       "      <td>Dealer</td>\n",
       "      <td>Manual</td>\n",
       "      <td>0</td>\n",
       "    </tr>\n",
       "    <tr>\n",
       "      <th>1</th>\n",
       "      <td>sx4</td>\n",
       "      <td>2013</td>\n",
       "      <td>4.75</td>\n",
       "      <td>9.54</td>\n",
       "      <td>43000</td>\n",
       "      <td>Diesel</td>\n",
       "      <td>Dealer</td>\n",
       "      <td>Manual</td>\n",
       "      <td>0</td>\n",
       "    </tr>\n",
       "    <tr>\n",
       "      <th>2</th>\n",
       "      <td>ciaz</td>\n",
       "      <td>2017</td>\n",
       "      <td>7.25</td>\n",
       "      <td>9.85</td>\n",
       "      <td>6900</td>\n",
       "      <td>Petrol</td>\n",
       "      <td>Dealer</td>\n",
       "      <td>Manual</td>\n",
       "      <td>0</td>\n",
       "    </tr>\n",
       "    <tr>\n",
       "      <th>3</th>\n",
       "      <td>wagon r</td>\n",
       "      <td>2011</td>\n",
       "      <td>2.85</td>\n",
       "      <td>4.15</td>\n",
       "      <td>5200</td>\n",
       "      <td>Petrol</td>\n",
       "      <td>Dealer</td>\n",
       "      <td>Manual</td>\n",
       "      <td>0</td>\n",
       "    </tr>\n",
       "    <tr>\n",
       "      <th>4</th>\n",
       "      <td>swift</td>\n",
       "      <td>2014</td>\n",
       "      <td>4.60</td>\n",
       "      <td>6.87</td>\n",
       "      <td>42450</td>\n",
       "      <td>Diesel</td>\n",
       "      <td>Dealer</td>\n",
       "      <td>Manual</td>\n",
       "      <td>0</td>\n",
       "    </tr>\n",
       "  </tbody>\n",
       "</table>\n",
       "</div>"
      ],
      "text/plain": [
       "  Car_Name  Year  Selling_Price  Present_Price  Kms_Driven Fuel_Type  \\\n",
       "0     ritz  2014           3.35           5.59       27000    Petrol   \n",
       "1      sx4  2013           4.75           9.54       43000    Diesel   \n",
       "2     ciaz  2017           7.25           9.85        6900    Petrol   \n",
       "3  wagon r  2011           2.85           4.15        5200    Petrol   \n",
       "4    swift  2014           4.60           6.87       42450    Diesel   \n",
       "\n",
       "  Seller_Type Transmission  Owner  \n",
       "0      Dealer       Manual      0  \n",
       "1      Dealer       Manual      0  \n",
       "2      Dealer       Manual      0  \n",
       "3      Dealer       Manual      0  \n",
       "4      Dealer       Manual      0  "
      ]
     },
     "execution_count": 25,
     "metadata": {},
     "output_type": "execute_result"
    }
   ],
   "source": [
    "df = pd.read_csv(\"car+data.csv\")\n",
    "df.head()"
   ]
  },
  {
   "cell_type": "markdown",
   "id": "13204bc7",
   "metadata": {
    "id": "13204bc7"
   },
   "source": [
    "### 3. Check the shape and basic information of the dataset."
   ]
  },
  {
   "cell_type": "code",
   "execution_count": 26,
   "id": "dd100657",
   "metadata": {
    "id": "dd100657"
   },
   "outputs": [
    {
     "data": {
      "text/plain": [
       "(301, 9)"
      ]
     },
     "execution_count": 26,
     "metadata": {},
     "output_type": "execute_result"
    }
   ],
   "source": [
    "df.shape"
   ]
  },
  {
   "cell_type": "code",
   "execution_count": 28,
   "id": "f91b0ae8",
   "metadata": {},
   "outputs": [
    {
     "name": "stdout",
     "output_type": "stream",
     "text": [
      "<class 'pandas.core.frame.DataFrame'>\n",
      "RangeIndex: 301 entries, 0 to 300\n",
      "Data columns (total 9 columns):\n",
      " #   Column         Non-Null Count  Dtype  \n",
      "---  ------         --------------  -----  \n",
      " 0   Car_Name       301 non-null    object \n",
      " 1   Year           301 non-null    int64  \n",
      " 2   Selling_Price  301 non-null    float64\n",
      " 3   Present_Price  301 non-null    float64\n",
      " 4   Kms_Driven     301 non-null    int64  \n",
      " 5   Fuel_Type      301 non-null    object \n",
      " 6   Seller_Type    301 non-null    object \n",
      " 7   Transmission   301 non-null    object \n",
      " 8   Owner          301 non-null    int64  \n",
      "dtypes: float64(2), int64(3), object(4)\n",
      "memory usage: 21.3+ KB\n"
     ]
    }
   ],
   "source": [
    "df.info()"
   ]
  },
  {
   "cell_type": "markdown",
   "id": "e69c8bc1",
   "metadata": {
    "id": "e69c8bc1"
   },
   "source": [
    "### 4. Check for the presence of the duplicate records in the dataset? If present drop them"
   ]
  },
  {
   "cell_type": "code",
   "execution_count": 29,
   "id": "d0456bdd",
   "metadata": {
    "id": "d0456bdd"
   },
   "outputs": [
    {
     "data": {
      "text/html": [
       "<div>\n",
       "<style scoped>\n",
       "    .dataframe tbody tr th:only-of-type {\n",
       "        vertical-align: middle;\n",
       "    }\n",
       "\n",
       "    .dataframe tbody tr th {\n",
       "        vertical-align: top;\n",
       "    }\n",
       "\n",
       "    .dataframe thead th {\n",
       "        text-align: right;\n",
       "    }\n",
       "</style>\n",
       "<table border=\"1\" class=\"dataframe\">\n",
       "  <thead>\n",
       "    <tr style=\"text-align: right;\">\n",
       "      <th></th>\n",
       "      <th>Car_Name</th>\n",
       "      <th>Year</th>\n",
       "      <th>Selling_Price</th>\n",
       "      <th>Present_Price</th>\n",
       "      <th>Kms_Driven</th>\n",
       "      <th>Fuel_Type</th>\n",
       "      <th>Seller_Type</th>\n",
       "      <th>Transmission</th>\n",
       "      <th>Owner</th>\n",
       "    </tr>\n",
       "  </thead>\n",
       "  <tbody>\n",
       "    <tr>\n",
       "      <th>17</th>\n",
       "      <td>ertiga</td>\n",
       "      <td>2016</td>\n",
       "      <td>7.75</td>\n",
       "      <td>10.79</td>\n",
       "      <td>43000</td>\n",
       "      <td>Diesel</td>\n",
       "      <td>Dealer</td>\n",
       "      <td>Manual</td>\n",
       "      <td>0</td>\n",
       "    </tr>\n",
       "    <tr>\n",
       "      <th>93</th>\n",
       "      <td>fortuner</td>\n",
       "      <td>2015</td>\n",
       "      <td>23.00</td>\n",
       "      <td>30.61</td>\n",
       "      <td>40000</td>\n",
       "      <td>Diesel</td>\n",
       "      <td>Dealer</td>\n",
       "      <td>Automatic</td>\n",
       "      <td>0</td>\n",
       "    </tr>\n",
       "  </tbody>\n",
       "</table>\n",
       "</div>"
      ],
      "text/plain": [
       "    Car_Name  Year  Selling_Price  Present_Price  Kms_Driven Fuel_Type  \\\n",
       "17    ertiga  2016           7.75          10.79       43000    Diesel   \n",
       "93  fortuner  2015          23.00          30.61       40000    Diesel   \n",
       "\n",
       "   Seller_Type Transmission  Owner  \n",
       "17      Dealer       Manual      0  \n",
       "93      Dealer    Automatic      0  "
      ]
     },
     "execution_count": 29,
     "metadata": {},
     "output_type": "execute_result"
    }
   ],
   "source": [
    "df[df.duplicated()]"
   ]
  },
  {
   "cell_type": "code",
   "execution_count": 5,
   "id": "02cc1c78",
   "metadata": {},
   "outputs": [],
   "source": [
    "df.drop_duplicates(keep='first', inplace=True)"
   ]
  },
  {
   "cell_type": "code",
   "execution_count": 30,
   "id": "0f42dbf0",
   "metadata": {},
   "outputs": [
    {
     "data": {
      "text/plain": [
       "(301, 9)"
      ]
     },
     "execution_count": 30,
     "metadata": {},
     "output_type": "execute_result"
    }
   ],
   "source": [
    "df.shape"
   ]
  },
  {
   "cell_type": "markdown",
   "id": "ef965d82",
   "metadata": {
    "id": "ef965d82"
   },
   "source": [
    "### 5. Drop the columns which you think redundant for the analysis."
   ]
  },
  {
   "cell_type": "code",
   "execution_count": 31,
   "id": "48e26af1",
   "metadata": {
    "id": "48e26af1"
   },
   "outputs": [
    {
     "name": "stdout",
     "output_type": "stream",
     "text": [
      "<class 'pandas.core.frame.DataFrame'>\n",
      "RangeIndex: 301 entries, 0 to 300\n",
      "Data columns (total 9 columns):\n",
      " #   Column         Non-Null Count  Dtype  \n",
      "---  ------         --------------  -----  \n",
      " 0   Car_Name       301 non-null    object \n",
      " 1   Year           301 non-null    int64  \n",
      " 2   Selling_Price  301 non-null    float64\n",
      " 3   Present_Price  301 non-null    float64\n",
      " 4   Kms_Driven     301 non-null    int64  \n",
      " 5   Fuel_Type      301 non-null    object \n",
      " 6   Seller_Type    301 non-null    object \n",
      " 7   Transmission   301 non-null    object \n",
      " 8   Owner          301 non-null    int64  \n",
      "dtypes: float64(2), int64(3), object(4)\n",
      "memory usage: 21.3+ KB\n"
     ]
    }
   ],
   "source": [
    "df.info()"
   ]
  },
  {
   "cell_type": "code",
   "execution_count": 32,
   "id": "6a49b9c4",
   "metadata": {},
   "outputs": [
    {
     "data": {
      "text/plain": [
       "Index(['Car_Name', 'Year', 'Selling_Price', 'Present_Price', 'Kms_Driven',\n",
       "       'Fuel_Type', 'Seller_Type', 'Transmission', 'Owner'],\n",
       "      dtype='object')"
      ]
     },
     "execution_count": 32,
     "metadata": {},
     "output_type": "execute_result"
    }
   ],
   "source": [
    "df.columns"
   ]
  },
  {
   "cell_type": "code",
   "execution_count": 33,
   "id": "eff4fb15",
   "metadata": {
    "id": "eff4fb15"
   },
   "outputs": [],
   "source": [
    "df.drop('Car_Name',axis=1,inplace=True)"
   ]
  },
  {
   "cell_type": "code",
   "execution_count": 34,
   "id": "fb8c0ba3",
   "metadata": {},
   "outputs": [
    {
     "data": {
      "text/html": [
       "<div>\n",
       "<style scoped>\n",
       "    .dataframe tbody tr th:only-of-type {\n",
       "        vertical-align: middle;\n",
       "    }\n",
       "\n",
       "    .dataframe tbody tr th {\n",
       "        vertical-align: top;\n",
       "    }\n",
       "\n",
       "    .dataframe thead th {\n",
       "        text-align: right;\n",
       "    }\n",
       "</style>\n",
       "<table border=\"1\" class=\"dataframe\">\n",
       "  <thead>\n",
       "    <tr style=\"text-align: right;\">\n",
       "      <th></th>\n",
       "      <th>Year</th>\n",
       "      <th>Selling_Price</th>\n",
       "      <th>Present_Price</th>\n",
       "      <th>Kms_Driven</th>\n",
       "      <th>Fuel_Type</th>\n",
       "      <th>Seller_Type</th>\n",
       "      <th>Transmission</th>\n",
       "      <th>Owner</th>\n",
       "    </tr>\n",
       "  </thead>\n",
       "  <tbody>\n",
       "    <tr>\n",
       "      <th>0</th>\n",
       "      <td>2014</td>\n",
       "      <td>3.35</td>\n",
       "      <td>5.59</td>\n",
       "      <td>27000</td>\n",
       "      <td>Petrol</td>\n",
       "      <td>Dealer</td>\n",
       "      <td>Manual</td>\n",
       "      <td>0</td>\n",
       "    </tr>\n",
       "    <tr>\n",
       "      <th>1</th>\n",
       "      <td>2013</td>\n",
       "      <td>4.75</td>\n",
       "      <td>9.54</td>\n",
       "      <td>43000</td>\n",
       "      <td>Diesel</td>\n",
       "      <td>Dealer</td>\n",
       "      <td>Manual</td>\n",
       "      <td>0</td>\n",
       "    </tr>\n",
       "    <tr>\n",
       "      <th>2</th>\n",
       "      <td>2017</td>\n",
       "      <td>7.25</td>\n",
       "      <td>9.85</td>\n",
       "      <td>6900</td>\n",
       "      <td>Petrol</td>\n",
       "      <td>Dealer</td>\n",
       "      <td>Manual</td>\n",
       "      <td>0</td>\n",
       "    </tr>\n",
       "    <tr>\n",
       "      <th>3</th>\n",
       "      <td>2011</td>\n",
       "      <td>2.85</td>\n",
       "      <td>4.15</td>\n",
       "      <td>5200</td>\n",
       "      <td>Petrol</td>\n",
       "      <td>Dealer</td>\n",
       "      <td>Manual</td>\n",
       "      <td>0</td>\n",
       "    </tr>\n",
       "    <tr>\n",
       "      <th>4</th>\n",
       "      <td>2014</td>\n",
       "      <td>4.60</td>\n",
       "      <td>6.87</td>\n",
       "      <td>42450</td>\n",
       "      <td>Diesel</td>\n",
       "      <td>Dealer</td>\n",
       "      <td>Manual</td>\n",
       "      <td>0</td>\n",
       "    </tr>\n",
       "  </tbody>\n",
       "</table>\n",
       "</div>"
      ],
      "text/plain": [
       "   Year  Selling_Price  Present_Price  Kms_Driven Fuel_Type Seller_Type  \\\n",
       "0  2014           3.35           5.59       27000    Petrol      Dealer   \n",
       "1  2013           4.75           9.54       43000    Diesel      Dealer   \n",
       "2  2017           7.25           9.85        6900    Petrol      Dealer   \n",
       "3  2011           2.85           4.15        5200    Petrol      Dealer   \n",
       "4  2014           4.60           6.87       42450    Diesel      Dealer   \n",
       "\n",
       "  Transmission  Owner  \n",
       "0       Manual      0  \n",
       "1       Manual      0  \n",
       "2       Manual      0  \n",
       "3       Manual      0  \n",
       "4       Manual      0  "
      ]
     },
     "execution_count": 34,
     "metadata": {},
     "output_type": "execute_result"
    }
   ],
   "source": [
    "df.head()"
   ]
  },
  {
   "cell_type": "markdown",
   "id": "38e4a84d",
   "metadata": {
    "id": "38e4a84d"
   },
   "source": [
    "### 6. Extract a new feature called 'age_of_the_car' from the feature 'year' and drop the feature year"
   ]
  },
  {
   "cell_type": "code",
   "execution_count": 35,
   "id": "f5a732ed",
   "metadata": {},
   "outputs": [],
   "source": [
    "from datetime import date\n",
    "today=date.today().year\n",
    "df['age_of_the_car']=today-df['Year']"
   ]
  },
  {
   "cell_type": "code",
   "execution_count": 36,
   "id": "cc2b2f9d",
   "metadata": {},
   "outputs": [
    {
     "data": {
      "text/plain": [
       "0       9\n",
       "1      10\n",
       "2       6\n",
       "3      12\n",
       "4       9\n",
       "       ..\n",
       "296     7\n",
       "297     8\n",
       "298    14\n",
       "299     6\n",
       "300     7\n",
       "Name: age_of_the_car, Length: 301, dtype: int64"
      ]
     },
     "execution_count": 36,
     "metadata": {},
     "output_type": "execute_result"
    }
   ],
   "source": [
    "df['age_of_the_car']"
   ]
  },
  {
   "cell_type": "markdown",
   "id": "b14100a4",
   "metadata": {
    "id": "b14100a4"
   },
   "source": [
    "### 7. Encode the categorical columns"
   ]
  },
  {
   "cell_type": "code",
   "execution_count": 37,
   "id": "14f8a038",
   "metadata": {
    "id": "14f8a038"
   },
   "outputs": [],
   "source": [
    "from sklearn.preprocessing import LabelEncoder\n",
    "for col in df.select_dtypes('object').columns:\n",
    "    le=LabelEncoder()\n",
    "    df[col]=le.fit_transform(df[col])"
   ]
  },
  {
   "cell_type": "code",
   "execution_count": 38,
   "id": "382f563f",
   "metadata": {},
   "outputs": [],
   "source": [
    "cate=['Fuel_Type','Seller_Type','Transmission']\n",
    "lbl_encode=LabelEncoder()\n",
    "for i in cate :\n",
    "    df[i]=df[[i]].apply(lbl_encode.fit_transform)"
   ]
  },
  {
   "cell_type": "code",
   "execution_count": 39,
   "id": "4a79aa61",
   "metadata": {},
   "outputs": [
    {
     "data": {
      "text/html": [
       "<div>\n",
       "<style scoped>\n",
       "    .dataframe tbody tr th:only-of-type {\n",
       "        vertical-align: middle;\n",
       "    }\n",
       "\n",
       "    .dataframe tbody tr th {\n",
       "        vertical-align: top;\n",
       "    }\n",
       "\n",
       "    .dataframe thead th {\n",
       "        text-align: right;\n",
       "    }\n",
       "</style>\n",
       "<table border=\"1\" class=\"dataframe\">\n",
       "  <thead>\n",
       "    <tr style=\"text-align: right;\">\n",
       "      <th></th>\n",
       "      <th>Year</th>\n",
       "      <th>Selling_Price</th>\n",
       "      <th>Present_Price</th>\n",
       "      <th>Kms_Driven</th>\n",
       "      <th>Fuel_Type</th>\n",
       "      <th>Seller_Type</th>\n",
       "      <th>Transmission</th>\n",
       "      <th>Owner</th>\n",
       "      <th>age_of_the_car</th>\n",
       "    </tr>\n",
       "  </thead>\n",
       "  <tbody>\n",
       "    <tr>\n",
       "      <th>0</th>\n",
       "      <td>2014</td>\n",
       "      <td>3.35</td>\n",
       "      <td>5.59</td>\n",
       "      <td>27000</td>\n",
       "      <td>2</td>\n",
       "      <td>0</td>\n",
       "      <td>1</td>\n",
       "      <td>0</td>\n",
       "      <td>9</td>\n",
       "    </tr>\n",
       "    <tr>\n",
       "      <th>1</th>\n",
       "      <td>2013</td>\n",
       "      <td>4.75</td>\n",
       "      <td>9.54</td>\n",
       "      <td>43000</td>\n",
       "      <td>1</td>\n",
       "      <td>0</td>\n",
       "      <td>1</td>\n",
       "      <td>0</td>\n",
       "      <td>10</td>\n",
       "    </tr>\n",
       "    <tr>\n",
       "      <th>2</th>\n",
       "      <td>2017</td>\n",
       "      <td>7.25</td>\n",
       "      <td>9.85</td>\n",
       "      <td>6900</td>\n",
       "      <td>2</td>\n",
       "      <td>0</td>\n",
       "      <td>1</td>\n",
       "      <td>0</td>\n",
       "      <td>6</td>\n",
       "    </tr>\n",
       "    <tr>\n",
       "      <th>3</th>\n",
       "      <td>2011</td>\n",
       "      <td>2.85</td>\n",
       "      <td>4.15</td>\n",
       "      <td>5200</td>\n",
       "      <td>2</td>\n",
       "      <td>0</td>\n",
       "      <td>1</td>\n",
       "      <td>0</td>\n",
       "      <td>12</td>\n",
       "    </tr>\n",
       "    <tr>\n",
       "      <th>4</th>\n",
       "      <td>2014</td>\n",
       "      <td>4.60</td>\n",
       "      <td>6.87</td>\n",
       "      <td>42450</td>\n",
       "      <td>1</td>\n",
       "      <td>0</td>\n",
       "      <td>1</td>\n",
       "      <td>0</td>\n",
       "      <td>9</td>\n",
       "    </tr>\n",
       "    <tr>\n",
       "      <th>...</th>\n",
       "      <td>...</td>\n",
       "      <td>...</td>\n",
       "      <td>...</td>\n",
       "      <td>...</td>\n",
       "      <td>...</td>\n",
       "      <td>...</td>\n",
       "      <td>...</td>\n",
       "      <td>...</td>\n",
       "      <td>...</td>\n",
       "    </tr>\n",
       "    <tr>\n",
       "      <th>296</th>\n",
       "      <td>2016</td>\n",
       "      <td>9.50</td>\n",
       "      <td>11.60</td>\n",
       "      <td>33988</td>\n",
       "      <td>1</td>\n",
       "      <td>0</td>\n",
       "      <td>1</td>\n",
       "      <td>0</td>\n",
       "      <td>7</td>\n",
       "    </tr>\n",
       "    <tr>\n",
       "      <th>297</th>\n",
       "      <td>2015</td>\n",
       "      <td>4.00</td>\n",
       "      <td>5.90</td>\n",
       "      <td>60000</td>\n",
       "      <td>2</td>\n",
       "      <td>0</td>\n",
       "      <td>1</td>\n",
       "      <td>0</td>\n",
       "      <td>8</td>\n",
       "    </tr>\n",
       "    <tr>\n",
       "      <th>298</th>\n",
       "      <td>2009</td>\n",
       "      <td>3.35</td>\n",
       "      <td>11.00</td>\n",
       "      <td>87934</td>\n",
       "      <td>2</td>\n",
       "      <td>0</td>\n",
       "      <td>1</td>\n",
       "      <td>0</td>\n",
       "      <td>14</td>\n",
       "    </tr>\n",
       "    <tr>\n",
       "      <th>299</th>\n",
       "      <td>2017</td>\n",
       "      <td>11.50</td>\n",
       "      <td>12.50</td>\n",
       "      <td>9000</td>\n",
       "      <td>1</td>\n",
       "      <td>0</td>\n",
       "      <td>1</td>\n",
       "      <td>0</td>\n",
       "      <td>6</td>\n",
       "    </tr>\n",
       "    <tr>\n",
       "      <th>300</th>\n",
       "      <td>2016</td>\n",
       "      <td>5.30</td>\n",
       "      <td>5.90</td>\n",
       "      <td>5464</td>\n",
       "      <td>2</td>\n",
       "      <td>0</td>\n",
       "      <td>1</td>\n",
       "      <td>0</td>\n",
       "      <td>7</td>\n",
       "    </tr>\n",
       "  </tbody>\n",
       "</table>\n",
       "<p>301 rows × 9 columns</p>\n",
       "</div>"
      ],
      "text/plain": [
       "     Year  Selling_Price  Present_Price  Kms_Driven  Fuel_Type  Seller_Type  \\\n",
       "0    2014           3.35           5.59       27000          2            0   \n",
       "1    2013           4.75           9.54       43000          1            0   \n",
       "2    2017           7.25           9.85        6900          2            0   \n",
       "3    2011           2.85           4.15        5200          2            0   \n",
       "4    2014           4.60           6.87       42450          1            0   \n",
       "..    ...            ...            ...         ...        ...          ...   \n",
       "296  2016           9.50          11.60       33988          1            0   \n",
       "297  2015           4.00           5.90       60000          2            0   \n",
       "298  2009           3.35          11.00       87934          2            0   \n",
       "299  2017          11.50          12.50        9000          1            0   \n",
       "300  2016           5.30           5.90        5464          2            0   \n",
       "\n",
       "     Transmission  Owner  age_of_the_car  \n",
       "0               1      0               9  \n",
       "1               1      0              10  \n",
       "2               1      0               6  \n",
       "3               1      0              12  \n",
       "4               1      0               9  \n",
       "..            ...    ...             ...  \n",
       "296             1      0               7  \n",
       "297             1      0               8  \n",
       "298             1      0              14  \n",
       "299             1      0               6  \n",
       "300             1      0               7  \n",
       "\n",
       "[301 rows x 9 columns]"
      ]
     },
     "execution_count": 39,
     "metadata": {},
     "output_type": "execute_result"
    }
   ],
   "source": [
    "df"
   ]
  },
  {
   "cell_type": "markdown",
   "id": "0cf17c9e",
   "metadata": {
    "id": "0cf17c9e"
   },
   "source": [
    "### 8. Separate the target and independent features."
   ]
  },
  {
   "cell_type": "code",
   "execution_count": 40,
   "id": "2000d472",
   "metadata": {
    "id": "2000d472"
   },
   "outputs": [],
   "source": [
    "x=df.drop('Selling_Price', axis=1)\n",
    "y=df['Selling_Price']"
   ]
  },
  {
   "cell_type": "markdown",
   "id": "a7962944",
   "metadata": {
    "id": "a7962944"
   },
   "source": [
    "### 9. Split the data into train and test."
   ]
  },
  {
   "cell_type": "code",
   "execution_count": 41,
   "id": "b8ee4942",
   "metadata": {
    "id": "b8ee4942"
   },
   "outputs": [],
   "source": [
    "from sklearn.model_selection import train_test_split\n",
    "x_train , x_test ,y_train ,y_test=train_test_split(x,y,test_size=0.30, random_state=1)"
   ]
  },
  {
   "cell_type": "markdown",
   "id": "0bebd320",
   "metadata": {
    "id": "0bebd320"
   },
   "source": [
    "### 10. Build a Random forest Regressor model and check the r2-score for train and test."
   ]
  },
  {
   "cell_type": "code",
   "execution_count": 42,
   "id": "22e9ba62",
   "metadata": {
    "id": "22e9ba62"
   },
   "outputs": [],
   "source": [
    "# function which can take the model and data as inputs\n",
    "from sklearn.metrics import r2_score\n",
    "def fit_n_predict(model,x_train,x_test,y_train,y_test):\n",
    "    #fit the model with train data\n",
    "    model.fit(x_train, y_train)\n",
    "    \n",
    "    #Makes the predictions on the test set\n",
    "    pred=model.predict(x_test)\n",
    "    \n",
    "    #Calculating the accuracy score\n",
    "    accuracy=r2_score(y_test, pred)\n",
    "    \n",
    "    #Returns the accuracy score\n",
    "    return accuracy"
   ]
  },
  {
   "cell_type": "code",
   "execution_count": 43,
   "id": "2b362ba7",
   "metadata": {},
   "outputs": [],
   "source": [
    "from sklearn.ensemble import RandomForestRegressor\n",
    "rf=RandomForestRegressor()"
   ]
  },
  {
   "cell_type": "code",
   "execution_count": 44,
   "id": "6ca70eb0",
   "metadata": {},
   "outputs": [],
   "source": [
    "rs=pd.DataFrame()"
   ]
  },
  {
   "cell_type": "code",
   "execution_count": 45,
   "id": "28eec9a7",
   "metadata": {},
   "outputs": [],
   "source": [
    "result_=fit_n_predict(rf,x_train,x_test,y_train,y_test)"
   ]
  },
  {
   "cell_type": "code",
   "execution_count": 47,
   "id": "debd21bc",
   "metadata": {},
   "outputs": [
    {
     "data": {
      "text/plain": [
       "0.9203028375571611"
      ]
     },
     "execution_count": 47,
     "metadata": {},
     "output_type": "execute_result"
    }
   ],
   "source": [
    "result_"
   ]
  },
  {
   "cell_type": "code",
   "execution_count": 48,
   "id": "f4a972fd",
   "metadata": {},
   "outputs": [],
   "source": [
    "rs['random_forest']=pd.Series(result_)"
   ]
  },
  {
   "cell_type": "code",
   "execution_count": 49,
   "id": "778f80ab",
   "metadata": {},
   "outputs": [
    {
     "data": {
      "text/html": [
       "<div>\n",
       "<style scoped>\n",
       "    .dataframe tbody tr th:only-of-type {\n",
       "        vertical-align: middle;\n",
       "    }\n",
       "\n",
       "    .dataframe tbody tr th {\n",
       "        vertical-align: top;\n",
       "    }\n",
       "\n",
       "    .dataframe thead th {\n",
       "        text-align: right;\n",
       "    }\n",
       "</style>\n",
       "<table border=\"1\" class=\"dataframe\">\n",
       "  <thead>\n",
       "    <tr style=\"text-align: right;\">\n",
       "      <th></th>\n",
       "      <th>random_forest</th>\n",
       "    </tr>\n",
       "  </thead>\n",
       "  <tbody>\n",
       "    <tr>\n",
       "      <th>0</th>\n",
       "      <td>0.920303</td>\n",
       "    </tr>\n",
       "  </tbody>\n",
       "</table>\n",
       "</div>"
      ],
      "text/plain": [
       "   random_forest\n",
       "0       0.920303"
      ]
     },
     "execution_count": 49,
     "metadata": {},
     "output_type": "execute_result"
    }
   ],
   "source": [
    "rs"
   ]
  },
  {
   "cell_type": "markdown",
   "id": "26e089c8",
   "metadata": {
    "id": "26e089c8"
   },
   "source": [
    "### 11. Create a pickle file with an extension as .pkl"
   ]
  },
  {
   "cell_type": "code",
   "execution_count": 51,
   "id": "41d6bb75",
   "metadata": {
    "id": "41d6bb75"
   },
   "outputs": [],
   "source": [
    "import pickle\n",
    "#saving the model to disk\n",
    "pickle.dump(rf,open('model.pkl','wb'))"
   ]
  },
  {
   "cell_type": "markdown",
   "id": "af654594",
   "metadata": {
    "id": "af654594"
   },
   "source": [
    "### 12. Create new folder/new project in visual studio/pycharm that should contain the \"model.pkl\" file *make sure you are using a virutal environment and install required packages.*"
   ]
  },
  {
   "cell_type": "markdown",
   "id": "c0b7bd95",
   "metadata": {
    "id": "c0b7bd95"
   },
   "source": [
    "### a) Create a basic HTML form for the frontend"
   ]
  },
  {
   "cell_type": "code",
   "execution_count": null,
   "id": "f3a493e3",
   "metadata": {},
   "outputs": [],
   "source": [
    "<html lang=\"en\">\n",
    "<head>\n",
    "    <meta charset=\"UTF-8\">\n",
    "    <meta http-equiv=\"X-UA-Compatible\" content=\"IE=edge\">\n",
    "    <meta name=\"viewport\" content=\"width=device-width, initial-scale=1.0\">\n",
    "    <title>Document</title>\n",
    "</head>\n",
    "<body>\n",
    "    <div class=\"hero-image\"\n",
    "        <div class=\"hero-text\">\n",
    "        \n",
    "        <h1 style=\"font-size:50px\">Used Car Price Predictor</h1>\n",
    "            <br><br><h3>{{ prediction_text }}<h3>\n",
    "        </div>\n",
    "    </div>\n",
    "    <style>\n",
    "        body,html{\n",
    "            height: 100%;\n",
    "            margin: 0;\n",
    "            font-family:Arial, Helvetica, sans-serif ;\n",
    "        }\n",
    "        .hero-image{\n",
    "            background-image: linear-gradient(rgba(0,0,0,0.5),rgba(0,0,0,0.5)),url('/static/image.jpg');\n",
    "            height: 50%;\n",
    "            background-position: bottom;\n",
    "            background-repeat: no-repeat;\n",
    "            background-size: cover;\n",
    "            position: relative;\n",
    "        }\n",
    "        .hero-text{\n",
    "            text-align: center;\n",
    "            position: absolute;\n",
    "            top: 50%;\n",
    "            transform: translate(-50%, -50%);\n",
    "        }\n",
    "    </style>\n",
    "    <form action=\"submit\">\n",
    "        <h3>Seller Type</h3><br><select name=\"Seller_Type\" id=\"research\" required=\"required\">\n",
    "            <option value=\"0\">Dealer</option>\n",
    "            <option value=\"1\">Individual</option>\n",
    "        </select>\n",
    "        <h3>Transmission</h3><br><select name=\"Transmission\" id=\"research\" required=\"required\">\n",
    "            <option value=\"0\">Manual</option>\n",
    "            <option value=\"1\">Automatic</option>\n",
    "        </select>\n",
    "        <br><br><button id=\"sub\" type=\"submit\">Predict Selling Price</button>\n",
    "        <br>\n",
    "    </form>\n",
    "    <style>\n",
    "        body{\n",
    "            background-color: 101,10,20;\n",
    "            text-align: center;\n",
    "            padding: 0px;\n",
    "            font-family: helvetica;\n",
    "        }\n",
    "       \n",
    "    #research {\n",
    "            font-size: 18px;\n",
    "            width: 200px;\n",
    "            height: 23px;\n",
    "            top: 23px;\n",
    "            }\n",
    "        #box{\n",
    "            border-radius: 60px;\n",
    "            border-color: 45px;\n",
    "            border-style: solid;\n",
    "            text-align: center;\n",
    "            background-color: white;\n",
    "            font-size: medium;\n",
    "            position: absolute;\n",
    "            width: 700px;\n",
    "            bottom: 9%;\n",
    "            height: 850px;\n",
    "            right: 30%;\n",
    "            padding: 0px;\n",
    "            margin: 0px;\n",
    "            font-size: 14px;\n",
    "        }\n",
    "        #fuel{\n",
    "            width: 83px;\n",
    "            height: 43px;\n",
    "            text-align: center;\n",
    "            border-radius: 14px;\n",
    "            font-size: 20px;\n",
    "        }\n",
    "        #sub{\n",
    "            background-color: green;\n",
    "            font-family: Arial, Helvetica, sans-serif;\n",
    "            font-weight: bold;\n",
    "            width: 180px;\n",
    "            height: 60px;\n",
    "            text-align: center;\n",
    "            border-radius: 20px;\n",
    "            font-size: 18px;\n",
    "            color: white;\n",
    "           }\n",
    "        #sub:hover{\n",
    "            background-color: white;\n",
    "        }\n",
    "        #first{\n",
    "            border-radius: 14px;\n",
    "            height: 25px;\n",
    "            font-size: 20px;\n",
    "            text-align: center;\n",
    "        }\n",
    "        #second{\n",
    "            border-radius: 14px;\n",
    "            height: 25px;\n",
    "            font-size: 20px;\n",
    "            text-align: center;\n",
    "        }\n",
    "        #third{\n",
    "            border-radius: 14px;\n",
    "            height: 25px;\n",
    "            font-size: 20px;\n",
    "            text-align: center;\n",
    "        }\n",
    "        #fourth {\n",
    "            border-radius: 14px;\n",
    "            height: 25px;\n",
    "            font-size: 20px;\n",
    "            text-align: center;\n",
    "            }\n",
    "    </style>\n",
    "    \n",
    "</body>\n",
    "</html>"
   ]
  },
  {
   "cell_type": "markdown",
   "id": "5a7a95db",
   "metadata": {
    "id": "5a7a95db"
   },
   "source": [
    "Create a file **index.html** in the templates folder and copy the following code."
   ]
  },
  {
   "cell_type": "markdown",
   "id": "2844d781",
   "metadata": {
    "id": "2844d781"
   },
   "source": [
    "### b) Create app.py file and write the predict function"
   ]
  },
  {
   "cell_type": "code",
   "execution_count": 54,
   "id": "7c40bdac",
   "metadata": {
    "id": "7c40bdac"
   },
   "outputs": [],
   "source": [
    "from flask import Flask, render_template,request,jsonify\n",
    "import pickle\n",
    "import numpy as np \n",
    "import sklearn\n",
    "\n",
    "app=Flask(__name__)\n",
    "model=pickle.load(open('model.pkl','rb'))\n",
    "\n",
    "@app.route('/',methods=['GET'])\n",
    "def Home():\n",
    "    return render_template('index.html')\n",
    "\n",
    "@app.route('/predict',methods=['POST'])\n",
    "def predict():\n",
    "    if request.method=='POST':\n",
    "        Present_Price=float(request.form['Present_Price'])\n",
    "        Kms_Driven=int(request.form['Kms_Driven'])\n",
    "        Owner=request.form['Owner']\n",
    "        Fuel_Type=request.form['Fuel_Type']\n",
    "        Age_of_the_car=request.form['Age_of_the_car']\n",
    "        Seller_Type=request.form['Seller_Type']\n",
    "        Transmission=int(request.form['Transmission'])\n",
    "\n",
    "        prediction=model.predict([[Present_Price,Kms_Driven,Owner,Fuel_Type,Age_of_the_car,Seller_Type,Transmission]])\n",
    "        output=round(prediction[0],2)\n",
    "        return render_template('index.html',prediction_text=\"You can sell your car at {} lakhs\".format(output))\n",
    "    \n",
    "    if __name__==\"__main__\":\n",
    "        app.run(dedug=True)"
   ]
  },
  {
   "cell_type": "markdown",
   "id": "028ed8de",
   "metadata": {
    "id": "028ed8de"
   },
   "source": [
    "### 13. Deploy your app on Heroku. (write commands for deployment)"
   ]
  },
  {
   "cell_type": "code",
   "execution_count": null,
   "id": "8997b74d",
   "metadata": {
    "id": "8997b74d"
   },
   "outputs": [],
   "source": []
  },
  {
   "cell_type": "markdown",
   "id": "80008b60",
   "metadata": {
    "id": "80008b60"
   },
   "source": [
    "### 14. Paste the URL of the heroku application below, and while submitting the solution submit this notebook along with the source code."
   ]
  },
  {
   "cell_type": "code",
   "execution_count": null,
   "id": "dc9ccccf",
   "metadata": {
    "id": "dc9ccccf"
   },
   "outputs": [],
   "source": []
  },
  {
   "cell_type": "markdown",
   "id": "c5a533a5",
   "metadata": {
    "id": "c5a533a5"
   },
   "source": [
    "### Happy Learning :)"
   ]
  }
 ],
 "metadata": {
  "colab": {
   "collapsed_sections": [],
   "name": "Lab Session.ipynb",
   "provenance": []
  },
  "kernelspec": {
   "display_name": "Python 3 (ipykernel)",
   "language": "python",
   "name": "python3"
  },
  "language_info": {
   "codemirror_mode": {
    "name": "ipython",
    "version": 3
   },
   "file_extension": ".py",
   "mimetype": "text/x-python",
   "name": "python",
   "nbconvert_exporter": "python",
   "pygments_lexer": "ipython3",
   "version": "3.9.13"
  }
 },
 "nbformat": 4,
 "nbformat_minor": 5
}
